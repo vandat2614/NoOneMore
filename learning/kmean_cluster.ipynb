{
 "cells": [
  {
   "cell_type": "code",
   "execution_count": 1,
   "id": "0d5b6199",
   "metadata": {},
   "outputs": [],
   "source": [
    "import cv2\n",
    "import matplotlib.pyplot as plt\n",
    "import numpy as np"
   ]
  },
  {
   "cell_type": "markdown",
   "id": "63d61c5c",
   "metadata": {},
   "source": [
    "## **Original Image**"
   ]
  },
  {
   "cell_type": "code",
   "execution_count": 2,
   "id": "c4c01529",
   "metadata": {},
   "outputs": [],
   "source": [
    "img_path = \"cropped.jpg\"\n",
    "img = cv2.imread(img_path)\n",
    "img = cv2.cvtColor(img, cv2.COLOR_BGR2RGB)"
   ]
  },
  {
   "cell_type": "code",
   "execution_count": 3,
   "id": "e0b12280",
   "metadata": {},
   "outputs": [
    {
     "data": {
      "text/plain": [
       "(np.float64(-0.5), np.float64(29.5), np.float64(78.5), np.float64(-0.5))"
      ]
     },
     "execution_count": 3,
     "metadata": {},
     "output_type": "execute_result"
    },
    {
     "data": {
      "image/png": "[encoded data removed]",
      "text/plain": [
       "<Figure size 640x480 with 1 Axes>"
      ]
     },
     "metadata": {},
     "output_type": "display_data"
    }
   ],
   "source": [
    "plt.imshow(img)\n",
    "plt.axis('off')"
   ]
  },
  {
   "cell_type": "markdown",
   "id": "85f6679a",
   "metadata": {},
   "source": [
    "## **Take the top half**"
   ]
  },
  {
   "cell_type": "code",
   "execution_count": 4,
   "id": "07468e7c",
   "metadata": {},
   "outputs": [
    {
     "data": {
      "text/plain": [
       "(np.float64(-0.5), np.float64(29.5), np.float64(38.5), np.float64(-0.5))"
      ]
     },
     "execution_count": 4,
     "metadata": {},
     "output_type": "execute_result"
    },
    {
     "data": {
      "image/png": "[encoded data removed]",
      "text/plain": [
       "<Figure size 640x480 with 1 Axes>"
      ]
     },
     "metadata": {},
     "output_type": "display_data"
    }
   ],
   "source": [
    "top_half_img = img[ : int(img.shape[0] / 2), :]\n",
    "\n",
    "plt.imshow(top_half_img)\n",
    "plt.axis('off')"
   ]
  },
  {
   "cell_type": "markdown",
   "id": "d10974d1",
   "metadata": {},
   "source": [
    "## **Cluster**"
   ]
  },
  {
   "cell_type": "code",
   "execution_count": 5,
   "id": "8b3775e4",
   "metadata": {},
   "outputs": [],
   "source": [
    "from sklearn.cluster import KMeans"
   ]
  },
  {
   "cell_type": "code",
   "execution_count": 6,
   "id": "41438d54",
   "metadata": {},
   "outputs": [
    {
     "data": {
      "text/plain": [
       "(39, 30, 3)"
      ]
     },
     "execution_count": 6,
     "metadata": {},
     "output_type": "execute_result"
    }
   ],
   "source": [
    "top_half_img.shape"
   ]
  },
  {
   "cell_type": "code",
   "execution_count": 7,
   "id": "9ed854f4",
   "metadata": {},
   "outputs": [
    {
     "data": {
      "text/plain": [
       "(1170, 3)"
      ]
     },
     "execution_count": 7,
     "metadata": {},
     "output_type": "execute_result"
    }
   ],
   "source": [
    "vectors = top_half_img.reshape(-1, 3)\n",
    "vectors.shape"
   ]
  },
  {
   "cell_type": "code",
   "execution_count": 8,
   "id": "907db39f",
   "metadata": {},
   "outputs": [
    {
     "data": {
      "text/plain": [
       "array([1, 1, 1, ..., 1, 1, 1], shape=(1170,), dtype=int32)"
      ]
     },
     "execution_count": 8,
     "metadata": {},
     "output_type": "execute_result"
    }
   ],
   "source": [
    "# init model\n",
    "kmeans = KMeans(n_clusters=2, random_state=42).fit(vectors)\n",
    "\n",
    "# get cluster\n",
    "labels = kmeans.labels_\n",
    "labels\n"
   ]
  },
  {
   "cell_type": "code",
   "execution_count": 9,
   "id": "70f1c219",
   "metadata": {},
   "outputs": [
    {
     "data": {
      "text/plain": [
       "(np.float64(-0.5), np.float64(29.5), np.float64(38.5), np.float64(-0.5))"
      ]
     },
     "execution_count": 9,
     "metadata": {},
     "output_type": "execute_result"
    },
    {
     "data": {
      "image/png": "[encoded data removed]",
      "text/plain": [
       "<Figure size 640x480 with 1 Axes>"
      ]
     },
     "metadata": {},
     "output_type": "display_data"
    }
   ],
   "source": [
    "cluster_img = labels.reshape(top_half_img.shape[0], top_half_img.shape[1])\n",
    "\n",
    "plt.imshow(cluster_img)\n",
    "plt.axis('off')"
   ]
  },
  {
   "cell_type": "code",
   "execution_count": 10,
   "id": "8d839e4a",
   "metadata": {},
   "outputs": [
    {
     "data": {
      "text/plain": [
       "(np.int32(1), np.int32(0))"
      ]
     },
     "execution_count": 10,
     "metadata": {},
     "output_type": "execute_result"
    }
   ],
   "source": [
    "# determine background , player label\n",
    "\n",
    "bg_labels = [cluster_img[0, 0], cluster_img[0, -1], cluster_img[-1, 0], cluster_img[-1, -1]]\n",
    "bg_label = max(set(bg_labels), key=bg_labels.count)\n",
    "player_label = 1 - bg_label\n",
    "\n",
    "bg_label, player_label"
   ]
  },
  {
   "cell_type": "code",
   "execution_count": null,
   "id": "f0355ed7",
   "metadata": {},
   "outputs": [
    {
     "data": {
      "text/plain": [
       "array([220.98308668, 227.32980973, 181.58985201])"
      ]
     },
     "execution_count": 12,
     "metadata": {},
     "output_type": "execute_result"
    }
   ],
   "source": [
    "kmeans.cluster_centers_[player_label] # center pixel"
   ]
  }
 ],
 "metadata": {
  "kernelspec": {
   "display_name": "venv",
   "language": "python",
   "name": "python3"
  },
  "language_info": {
   "codemirror_mode": {
    "name": "ipython",
    "version": 3
   },
   "file_extension": ".py",
   "mimetype": "text/x-python",
   "name": "python",
   "nbconvert_exporter": "python",
   "pygments_lexer": "ipython3",
   "version": "3.11.5"
  }
 },
 "nbformat": 4,
 "nbformat_minor": 5
}
